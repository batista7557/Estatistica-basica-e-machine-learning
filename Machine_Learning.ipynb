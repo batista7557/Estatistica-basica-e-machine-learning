{
  "nbformat": 4,
  "nbformat_minor": 0,
  "metadata": {
    "colab": {
      "provenance": [],
      "authorship_tag": "ABX9TyORWW2JIurseG+iHTj/Dypx",
      "include_colab_link": true
    },
    "kernelspec": {
      "name": "python3",
      "display_name": "Python 3"
    },
    "language_info": {
      "name": "python"
    }
  },
  "cells": [
    {
      "cell_type": "markdown",
      "metadata": {
        "id": "view-in-github",
        "colab_type": "text"
      },
      "source": [
        "<a href=\"https://colab.research.google.com/github/batista7557/Estatistica-basica-e-machine-learning/blob/main/Machine_Learning.ipynb\" target=\"_parent\"><img src=\"https://colab.research.google.com/assets/colab-badge.svg\" alt=\"Open In Colab\"/></a>"
      ]
    },
    {
      "cell_type": "code",
      "source": [
        "import numpy\n",
        "import pandas as pd\n",
        "import matplotlib.pyplot as plt\n",
        "from scipy import stats\n",
        "from sklearn.metrics import r2_score\n",
        "from sklearn import linear_model\n",
        "from sklearn import metrics\n",
        "from scipy.cluster.hierarchy import dendrogram, linkage \n",
        "from sklearn.cluster import AgglomerativeClustering"
      ],
      "metadata": {
        "id": "LgkWyw6Ifg17"
      },
      "execution_count": 17,
      "outputs": []
    },
    {
      "cell_type": "markdown",
      "source": [
        "Média, mediana e moda"
      ],
      "metadata": {
        "id": "tF_voQYWfTO7"
      }
    },
    {
      "cell_type": "code",
      "execution_count": null,
      "metadata": {
        "id": "p58SRrKjej7Y"
      },
      "outputs": [],
      "source": [
        "velocidade = [99,86,87,88,111,86,103,87,94,78,77,85,86]"
      ]
    },
    {
      "cell_type": "code",
      "source": [
        "media = numpy.mean(velocidade)\n",
        "\n",
        "print(media)"
      ],
      "metadata": {
        "colab": {
          "base_uri": "https://localhost:8080/"
        },
        "id": "LsnwnuHSfkg0",
        "outputId": "1894f278-187e-4d83-a263-25ada10973d7"
      },
      "execution_count": null,
      "outputs": [
        {
          "output_type": "stream",
          "name": "stdout",
          "text": [
            "89.76923076923077\n"
          ]
        }
      ]
    },
    {
      "cell_type": "code",
      "source": [
        "mediana = numpy.median(velocidade)\n",
        "\n",
        "print(mediana)"
      ],
      "metadata": {
        "colab": {
          "base_uri": "https://localhost:8080/"
        },
        "id": "U8FqyTINgAm3",
        "outputId": "dfaad5ee-2054-4dac-bbdd-0e9b85311459"
      },
      "execution_count": null,
      "outputs": [
        {
          "output_type": "stream",
          "name": "stdout",
          "text": [
            "87.0\n"
          ]
        }
      ]
    },
    {
      "cell_type": "code",
      "source": [
        "moda = stats.mode(velocidade)\n",
        "\n",
        "print(moda)"
      ],
      "metadata": {
        "colab": {
          "base_uri": "https://localhost:8080/"
        },
        "id": "hmgVrt8PgXW3",
        "outputId": "0060ee19-9532-4046-ff21-a983999ed480"
      },
      "execution_count": null,
      "outputs": [
        {
          "output_type": "stream",
          "name": "stdout",
          "text": [
            "ModeResult(mode=array([86]), count=array([3]))\n"
          ]
        }
      ]
    },
    {
      "cell_type": "markdown",
      "source": [
        "Desvio padrão"
      ],
      "metadata": {
        "id": "1BkFF_srguS-"
      }
    },
    {
      "cell_type": "code",
      "source": [
        "velocidade = [86,87,88,86,87,85,86]"
      ],
      "metadata": {
        "id": "1OgXzNoXgwy4"
      },
      "execution_count": null,
      "outputs": []
    },
    {
      "cell_type": "code",
      "source": [
        "desvioPadrao = numpy.std(velocidade)\n",
        "\n",
        "print(desvioPadrao)"
      ],
      "metadata": {
        "colab": {
          "base_uri": "https://localhost:8080/"
        },
        "id": "m416MUARg5L6",
        "outputId": "8765c723-6326-4afc-86df-eca3c4c22a42"
      },
      "execution_count": null,
      "outputs": [
        {
          "output_type": "stream",
          "name": "stdout",
          "text": [
            "0.9035079029052513\n"
          ]
        }
      ]
    },
    {
      "cell_type": "markdown",
      "source": [
        "Variância"
      ],
      "metadata": {
        "id": "lQKBizrHhEuT"
      }
    },
    {
      "cell_type": "code",
      "source": [
        "velocidade = [32,111,138,28,59,77,97]"
      ],
      "metadata": {
        "id": "GMi5QvJ6hG0J"
      },
      "execution_count": null,
      "outputs": []
    },
    {
      "cell_type": "code",
      "source": [
        "variancia = numpy.var(velocidade)\n",
        "\n",
        "print(variancia)"
      ],
      "metadata": {
        "colab": {
          "base_uri": "https://localhost:8080/"
        },
        "id": "P6QTqA5khQco",
        "outputId": "b30c5159-72c5-463f-fbc3-395a21a2ed62"
      },
      "execution_count": null,
      "outputs": [
        {
          "output_type": "stream",
          "name": "stdout",
          "text": [
            "1432.2448979591834\n"
          ]
        }
      ]
    },
    {
      "cell_type": "markdown",
      "source": [
        "Percentil"
      ],
      "metadata": {
        "id": "6Efaj9B0iIM4"
      }
    },
    {
      "cell_type": "code",
      "source": [
        "idades = [5,31,43,48,50,41,7,11,15,39,80,82,32,2,8,6,25,36,27,61,31]"
      ],
      "metadata": {
        "id": "IjaknLzyiJj4"
      },
      "execution_count": null,
      "outputs": []
    },
    {
      "cell_type": "code",
      "source": [
        "percentil = numpy.percentile(idades, 75) #Significa que 75% da amostra tem idade menor ou igual a 43\n",
        "\n",
        "print(percentil)"
      ],
      "metadata": {
        "colab": {
          "base_uri": "https://localhost:8080/"
        },
        "id": "1iqgAPA1iUns",
        "outputId": "f5e61db6-eb0e-4c33-8b27-a97e73f7550e"
      },
      "execution_count": null,
      "outputs": [
        {
          "output_type": "stream",
          "name": "stdout",
          "text": [
            "43.0\n"
          ]
        }
      ]
    },
    {
      "cell_type": "code",
      "source": [
        "percentil90 = numpy.percentile(idades, 90)\n",
        "\n",
        "print(percentil90)"
      ],
      "metadata": {
        "colab": {
          "base_uri": "https://localhost:8080/"
        },
        "id": "P69yns83jOCG",
        "outputId": "49b38d1b-0db3-47ab-8267-31e023a61883"
      },
      "execution_count": null,
      "outputs": [
        {
          "output_type": "stream",
          "name": "stdout",
          "text": [
            "61.0\n"
          ]
        }
      ]
    },
    {
      "cell_type": "markdown",
      "source": [
        "Distribuição de dados"
      ],
      "metadata": {
        "id": "BJduDbhRmIwt"
      }
    },
    {
      "cell_type": "code",
      "source": [
        "#Criando grandes datasets\n",
        "dataset = numpy.random.uniform(0.0, 5.0, 250)\n",
        "\n",
        "print(dataset)"
      ],
      "metadata": {
        "colab": {
          "base_uri": "https://localhost:8080/"
        },
        "id": "-RWySRT2mH-1",
        "outputId": "cd81ce6b-e9ad-4e0d-a1df-7b7b94f548b1"
      },
      "execution_count": null,
      "outputs": [
        {
          "output_type": "stream",
          "name": "stdout",
          "text": [
            "[2.86590389e+00 3.71065092e+00 1.35382201e+00 3.82910016e+00\n",
            " 7.38829709e-01 4.68356722e+00 4.77386451e+00 4.75328051e+00\n",
            " 7.42332132e-01 1.19093488e+00 1.31636725e+00 2.80915426e+00\n",
            " 3.68975175e+00 1.65326327e+00 3.36474601e+00 3.10404844e+00\n",
            " 2.24893209e+00 1.32939485e-03 2.52619621e+00 1.49587554e+00\n",
            " 3.25180950e+00 2.09361973e+00 4.33268518e+00 3.72566223e+00\n",
            " 4.59624564e+00 3.63267912e+00 1.70075207e+00 8.25255060e-01\n",
            " 9.03451688e-01 3.29536388e+00 4.15170263e-02 1.50358868e+00\n",
            " 3.65390100e+00 3.90598463e+00 4.98256538e+00 1.55432806e+00\n",
            " 3.60055219e+00 3.60146352e+00 3.46694547e+00 3.61347012e+00\n",
            " 1.55292024e-01 4.25167329e+00 1.33683387e+00 3.38484110e+00\n",
            " 2.52759201e+00 3.31202335e+00 2.69631461e+00 2.94206472e+00\n",
            " 4.91732192e-01 1.14764968e+00 4.56423665e+00 2.48347813e+00\n",
            " 4.53014470e+00 4.82914437e+00 3.77511242e+00 4.16945121e+00\n",
            " 3.61138192e+00 4.20100711e+00 3.76874918e+00 2.56953748e+00\n",
            " 3.92194385e+00 2.65250373e+00 1.84959754e+00 1.42952584e+00\n",
            " 3.74676103e+00 2.24888175e+00 7.85246262e-01 4.30100177e+00\n",
            " 4.00272370e+00 1.13038270e+00 4.91706556e+00 4.67661039e+00\n",
            " 4.46417960e+00 9.55106948e-01 2.76623649e+00 2.61866837e+00\n",
            " 4.63158234e+00 3.32231918e+00 3.57779915e-01 6.96772068e-01\n",
            " 3.32617977e+00 3.63063454e+00 3.92096369e+00 1.22639988e+00\n",
            " 9.65849454e-01 4.98403103e+00 3.85502915e+00 1.33682764e+00\n",
            " 1.40228571e+00 2.86812971e-01 8.12706926e-01 5.28981688e-01\n",
            " 3.74961723e+00 2.08577062e+00 1.98098391e+00 2.37399892e+00\n",
            " 4.89597981e+00 2.20828408e+00 1.80028784e+00 3.59388382e+00\n",
            " 2.56976895e-01 1.24214072e+00 1.52001827e+00 4.27195245e+00\n",
            " 1.65146307e+00 1.13593799e+00 2.82025076e+00 2.79063011e+00\n",
            " 2.44430922e+00 2.32283693e+00 4.55625128e+00 1.53731248e+00\n",
            " 3.30089584e+00 4.09908699e+00 2.14034293e+00 1.88792330e+00\n",
            " 5.22083223e-01 2.75452805e+00 3.55720758e-01 3.78746758e+00\n",
            " 2.17633146e+00 3.76851751e+00 1.04816567e+00 4.20005543e+00\n",
            " 1.58092966e+00 2.79182084e+00 2.87519138e+00 2.63215507e+00\n",
            " 1.15077109e+00 1.39107339e+00 3.47672357e-01 9.45113158e-01\n",
            " 5.07566042e-02 1.89465004e+00 6.94114565e-01 3.81937484e+00\n",
            " 3.03612895e+00 1.08497246e+00 4.18899876e+00 8.65769259e-01\n",
            " 4.99684643e+00 4.65151922e-01 1.61004735e+00 3.12126161e+00\n",
            " 2.53610235e+00 4.73851374e+00 1.02327463e+00 1.03701089e+00\n",
            " 4.46936356e+00 4.31463460e+00 1.79525873e+00 2.38321194e+00\n",
            " 3.90861965e+00 1.08364041e+00 3.05540158e+00 1.51346269e+00\n",
            " 3.99437879e-02 4.97294950e+00 9.62274821e-01 1.47314546e+00\n",
            " 1.81990138e+00 1.09360561e+00 4.03753218e+00 4.09328646e+00\n",
            " 1.40916016e+00 4.20113523e+00 4.55846849e+00 4.58281763e+00\n",
            " 4.74497008e+00 9.86949298e-01 2.64681189e-01 3.73312032e+00\n",
            " 2.90783246e+00 3.38435662e+00 2.36186296e+00 2.37980112e+00\n",
            " 1.19529847e-01 3.47979351e+00 3.42941560e+00 9.68716014e-01\n",
            " 1.76710084e+00 4.05646861e-01 4.45391549e-01 3.16091405e-01\n",
            " 7.70899629e-01 3.34198158e+00 9.33838414e-01 5.61462995e-01\n",
            " 3.64348722e+00 5.61272593e-02 4.33597434e+00 1.87978277e+00\n",
            " 1.04226030e+00 3.34671366e-01 3.35628422e+00 2.72972446e-01\n",
            " 2.67269426e+00 3.37044018e+00 1.82993483e+00 3.31456697e-01\n",
            " 4.52538358e+00 3.25189388e+00 1.95579347e+00 3.73799631e+00\n",
            " 2.75280948e+00 1.43114999e+00 2.91065673e+00 2.58654123e+00\n",
            " 1.56447159e+00 4.89492958e+00 1.45751554e-01 1.05048100e+00\n",
            " 3.55162337e+00 2.59457435e+00 1.06681638e+00 4.37307001e+00\n",
            " 2.81786641e+00 1.41861440e+00 1.19414781e+00 2.06572582e+00\n",
            " 4.01339073e-01 2.90380484e+00 4.49041288e+00 9.15834037e-01\n",
            " 1.00399469e+00 1.26433363e-01 2.88696627e+00 3.56634535e+00\n",
            " 2.59123809e+00 2.84903714e+00 4.62307548e+00 3.03525143e+00\n",
            " 1.72120654e+00 4.66191968e+00 2.96455537e+00 1.28605216e+00\n",
            " 3.60285478e+00 3.99159715e+00 7.61444362e-01 4.52574332e+00\n",
            " 2.03891803e+00 1.61892511e-01 4.72142089e+00 1.29691257e+00\n",
            " 3.70313837e+00 2.82800263e-02 9.58054845e-01 4.14217228e+00\n",
            " 4.47437931e+00 2.84127603e+00]\n"
          ]
        }
      ]
    },
    {
      "cell_type": "code",
      "source": [
        "plt.hist(dataset, 5)\n",
        "plt.show()"
      ],
      "metadata": {
        "colab": {
          "base_uri": "https://localhost:8080/",
          "height": 265
        },
        "id": "qgePcB2smsbx",
        "outputId": "b497ab85-b795-4f13-96e7-5f6ad09a839a"
      },
      "execution_count": null,
      "outputs": [
        {
          "output_type": "display_data",
          "data": {
            "text/plain": [
              "<Figure size 432x288 with 1 Axes>"
            ],
            "image/png": "[encoded data removed]"
          },
          "metadata": {
            "needs_background": "light"
          }
        }
      ]
    },
    {
      "cell_type": "markdown",
      "source": [
        "Distribuição normal"
      ],
      "metadata": {
        "id": "_G8kI78QnJCA"
      }
    },
    {
      "cell_type": "code",
      "source": [
        "#Se concentra em determinado valor\n",
        "dataset = numpy.random.normal(5.0, 1.0, 100000)\n",
        "\n",
        "plt.hist(dataset, 100)\n",
        "plt.show()"
      ],
      "metadata": {
        "colab": {
          "base_uri": "https://localhost:8080/",
          "height": 265
        },
        "id": "P72RVYxfnGmV",
        "outputId": "7a3874b3-0494-48ad-8535-5856776edb25"
      },
      "execution_count": null,
      "outputs": [
        {
          "output_type": "display_data",
          "data": {
            "text/plain": [
              "<Figure size 432x288 with 1 Axes>"
            ],
            "image/png": "[encoded data removed]"
          },
          "metadata": {
            "needs_background": "light"
          }
        }
      ]
    },
    {
      "cell_type": "markdown",
      "source": [
        "Distribuição de dados aleatória"
      ],
      "metadata": {
        "id": "JoDFKyu0nvwW"
      }
    },
    {
      "cell_type": "code",
      "source": [
        "x = numpy.random.normal(5.0, 1.0, 1000)\n",
        "y = numpy.random.normal(10.0, 2.0, 1000)\n",
        "\n",
        "plt.scatter(x, y)\n",
        "plt.show()"
      ],
      "metadata": {
        "colab": {
          "base_uri": "https://localhost:8080/",
          "height": 265
        },
        "id": "PL06ONU_nyZq",
        "outputId": "09b33068-f1bb-4bec-f175-7f08cc5ad7f0"
      },
      "execution_count": null,
      "outputs": [
        {
          "output_type": "display_data",
          "data": {
            "text/plain": [
              "<Figure size 432x288 with 1 Axes>"
            ],
            "image/png": "[encoded data removed]"
          },
          "metadata": {
            "needs_background": "light"
          }
        }
      ]
    },
    {
      "cell_type": "markdown",
      "source": [
        "Regressão linear"
      ],
      "metadata": {
        "id": "Ed_QwrnlpDDB"
      }
    },
    {
      "cell_type": "code",
      "source": [
        "#Gráfico padrão\n",
        "x = [5,7,8,7,2,17,2,9,4,11,12,9,6]\n",
        "y = [99,86,87,88,111,86,103,87,94,78,77,85,86]\n",
        "\n",
        "plt.scatter(x, y)\n",
        "plt.show()"
      ],
      "metadata": {
        "colab": {
          "base_uri": "https://localhost:8080/",
          "height": 265
        },
        "id": "UTFbgOcCpE9W",
        "outputId": "bf12d5df-8828-45af-a74f-a1ccb20fc19f"
      },
      "execution_count": null,
      "outputs": [
        {
          "output_type": "display_data",
          "data": {
            "text/plain": [
              "<Figure size 432x288 with 1 Axes>"
            ],
            "image/png": "[encoded data removed]"
          },
          "metadata": {
            "needs_background": "light"
          }
        }
      ]
    },
    {
      "cell_type": "code",
      "source": [
        "x = [5,7,8,7,2,17,2,9,4,11,12,9,6]\n",
        "y = [99,86,87,88,111,86,103,87,94,78,77,85,86]\n",
        "\n",
        "#Método que retorna valores importantes da regressão linear\n",
        "slope, intercept, r, p, std_err = stats.linregress(x, y)\n",
        "\n",
        "#Função que usa os valores de slope e intercept para retornar um novo valor. Esse valor representa onde no eixo y correspondente a valor x vai ser colocado\n",
        "def myfunc(x):\n",
        "  return slope * x + intercept\n",
        "\n",
        "#Roda cada valor do eixo x pela função, vai gerar um novo array com novos valores para o eixo y\n",
        "mymodel = list(map(myfunc, x))\n",
        "\n",
        "#Roda o gráfico original\n",
        "plt.scatter(x, y)\n",
        "\n",
        "#Desenha a linha de regressão linear\n",
        "plt.plot(x, mymodel)\n",
        "\n",
        "plt.show()"
      ],
      "metadata": {
        "colab": {
          "base_uri": "https://localhost:8080/",
          "height": 265
        },
        "id": "IOrFglFbpWip",
        "outputId": "4f45cc64-58f3-4090-c54a-71e51ba0fcf7"
      },
      "execution_count": null,
      "outputs": [
        {
          "output_type": "display_data",
          "data": {
            "text/plain": [
              "<Figure size 432x288 with 1 Axes>"
            ],
            "image/png": "[encoded data removed]"
          },
          "metadata": {
            "needs_background": "light"
          }
        }
      ]
    },
    {
      "cell_type": "code",
      "source": [
        "# R - Relacionamento\n",
        "# Coeficiente de correlação\n",
        "# Vai de -1 para 1, 0 significa sem relação.\n",
        "# -1 e 1 significam 100% correlacionados\n",
        "print(r)"
      ],
      "metadata": {
        "colab": {
          "base_uri": "https://localhost:8080/"
        },
        "id": "KRLkdANFB2hw",
        "outputId": "edbe3fbf-3e14-468e-df71-de208d6f91e6"
      },
      "execution_count": null,
      "outputs": [
        {
          "output_type": "stream",
          "name": "stdout",
          "text": [
            "-0.758591524376155\n"
          ]
        }
      ]
    },
    {
      "cell_type": "code",
      "source": [
        "#Prever um valor futuro quando o valor de x for 10\n",
        "previsao = myfunc(10)\n",
        "\n",
        "print(previsao)"
      ],
      "metadata": {
        "colab": {
          "base_uri": "https://localhost:8080/"
        },
        "id": "Iqis3WhtCZhN",
        "outputId": "e5f0b705-2733-4840-bc31-aec3fe875d46"
      },
      "execution_count": null,
      "outputs": [
        {
          "output_type": "stream",
          "name": "stdout",
          "text": [
            "85.59308314937454\n"
          ]
        }
      ]
    },
    {
      "cell_type": "markdown",
      "source": [
        "Caso que não funciona"
      ],
      "metadata": {
        "id": "gnvcUiReE_uD"
      }
    },
    {
      "cell_type": "code",
      "source": [
        "x = [89,43,36,36,95,10,66,34,38,20,26,29,48,64,6,5,36,66,72,40]\n",
        "y = [21,46,3,35,67,95,53,72,58,10,26,34,90,33,38,20,56,2,47,15]\n",
        "\n",
        "#Método que retorna valores importantes da regressão linear\n",
        "slope, intercept, r, p, std_err = stats.linregress(x, y)\n",
        "\n",
        "#Função que usa os valores de slope e intercept para retornar um novo valor. Esse valor representa onde no eixo y correspondente a valor x vai ser colocado\n",
        "def myfunc(x):\n",
        "  return slope * x + intercept\n",
        "\n",
        "#Roda cada valor do eixo x pela função, vai gerar um novo array com novos valores para o eixo y\n",
        "mymodel = list(map(myfunc, x))\n",
        "\n",
        "#Roda o gráfico original\n",
        "plt.scatter(x, y)\n",
        "\n",
        "#Desenha a linha de regressão linear\n",
        "plt.plot(x, mymodel)\n",
        "\n",
        "plt.show()"
      ],
      "metadata": {
        "colab": {
          "base_uri": "https://localhost:8080/",
          "height": 265
        },
        "id": "xxv08HCVFfyH",
        "outputId": "cb7028d1-7289-4ae4-f4c3-05469f6c9df9"
      },
      "execution_count": null,
      "outputs": [
        {
          "output_type": "display_data",
          "data": {
            "text/plain": [
              "<Figure size 432x288 with 1 Axes>"
            ],
            "image/png": "[encoded data removed]"
          },
          "metadata": {
            "needs_background": "light"
          }
        }
      ]
    },
    {
      "cell_type": "code",
      "source": [
        "print(r) #Muito próximo de 0, relacionamento ruim"
      ],
      "metadata": {
        "colab": {
          "base_uri": "https://localhost:8080/"
        },
        "id": "49b2pGENFwmA",
        "outputId": "0eb7e13b-1b36-4d2b-c3ef-109a8b75ad50"
      },
      "execution_count": null,
      "outputs": [
        {
          "output_type": "stream",
          "name": "stdout",
          "text": [
            "0.01331814154297491\n"
          ]
        }
      ]
    },
    {
      "cell_type": "markdown",
      "source": [
        "Regressão polinomial"
      ],
      "metadata": {
        "id": "kqljptuAGDyR"
      }
    },
    {
      "cell_type": "code",
      "source": [
        "x = [1,2,3,5,6,7,8,9,10,12,13,14,15,16,18,19,21,22]\n",
        "y = [100,90,80,60,60,55,60,65,70,70,75,76,78,79,90,99,99,100]\n",
        "\n",
        "plt.scatter(x, y)\n",
        "plt.show()"
      ],
      "metadata": {
        "colab": {
          "base_uri": "https://localhost:8080/",
          "height": 265
        },
        "id": "qd56jFXhGUvX",
        "outputId": "76960b3a-c7cd-48ac-8b04-c7162a99ea02"
      },
      "execution_count": null,
      "outputs": [
        {
          "output_type": "display_data",
          "data": {
            "text/plain": [
              "<Figure size 432x288 with 1 Axes>"
            ],
            "image/png": "[encoded data removed]"
          },
          "metadata": {
            "needs_background": "light"
          }
        }
      ]
    },
    {
      "cell_type": "code",
      "source": [
        "mymodel = numpy.poly1d(numpy.polyfit(x, y, 3))\n",
        "\n",
        "myline = numpy.linspace(1, 22, 100) #Começa na linha 1 e termina na 22\n",
        "\n",
        "plt.scatter(x, y)\n",
        "plt.plot(myline, mymodel(myline))\n",
        "plt.show()"
      ],
      "metadata": {
        "colab": {
          "base_uri": "https://localhost:8080/",
          "height": 265
        },
        "id": "YAKpjsRPGfv3",
        "outputId": "4b610f4c-f850-469d-dff4-fad4f6eae40c"
      },
      "execution_count": null,
      "outputs": [
        {
          "output_type": "display_data",
          "data": {
            "text/plain": [
              "<Figure size 432x288 with 1 Axes>"
            ],
            "image/png": "[encoded data removed]"
          },
          "metadata": {
            "needs_background": "light"
          }
        }
      ]
    },
    {
      "cell_type": "code",
      "source": [
        "print(r2_score(y, mymodel(x))) #Bom relacionamento"
      ],
      "metadata": {
        "colab": {
          "base_uri": "https://localhost:8080/"
        },
        "id": "hMvsWswMbs8N",
        "outputId": "2a896af5-1700-4f6f-934c-a2ec02ca5508"
      },
      "execution_count": null,
      "outputs": [
        {
          "output_type": "stream",
          "name": "stdout",
          "text": [
            "0.9432150416451025\n"
          ]
        }
      ]
    },
    {
      "cell_type": "code",
      "source": [
        "previsao = mymodel(17)\n",
        "\n",
        "print(previsao)"
      ],
      "metadata": {
        "colab": {
          "base_uri": "https://localhost:8080/"
        },
        "id": "kLg3I16ncb6o",
        "outputId": "aa37dc53-44bb-4390-880b-12ec7cf179e5"
      },
      "execution_count": null,
      "outputs": [
        {
          "output_type": "stream",
          "name": "stdout",
          "text": [
            "88.87331269697991\n"
          ]
        }
      ]
    },
    {
      "cell_type": "markdown",
      "source": [
        "Regressão múltipla"
      ],
      "metadata": {
        "id": "A7BAUxNaobH8"
      }
    },
    {
      "cell_type": "code",
      "source": [
        "df = pd.read_csv(\"data.csv\")"
      ],
      "metadata": {
        "id": "3ssWZhjleeiM"
      },
      "execution_count": null,
      "outputs": []
    },
    {
      "cell_type": "code",
      "source": [
        "X = df[['Weight', 'Volume']] #Valores independentes \n",
        "y = df['CO2'] #Valores dependentes"
      ],
      "metadata": {
        "id": "Tt7to_jOex7_"
      },
      "execution_count": null,
      "outputs": []
    },
    {
      "cell_type": "code",
      "source": [
        "regressao = linear_model.LinearRegression()\n",
        "regressao.fit(X, y)\n",
        "\n",
        "#Prevê a emissão de CO2 de um carro com 2300kg e volume de 1300cm3\n",
        "predictedCO2 = regressao.predict([[2300, 1300]])\n",
        "\n",
        "print(predictedCO2)"
      ],
      "metadata": {
        "colab": {
          "base_uri": "https://localhost:8080/"
        },
        "id": "bP5qqn7ahDrh",
        "outputId": "baaac4e2-d0db-402f-f02d-a462c88e3fe9"
      },
      "execution_count": null,
      "outputs": [
        {
          "output_type": "stream",
          "name": "stdout",
          "text": [
            "[107.2087328]\n"
          ]
        },
        {
          "output_type": "stream",
          "name": "stderr",
          "text": [
            "/usr/local/lib/python3.8/dist-packages/sklearn/base.py:450: UserWarning: X does not have valid feature names, but LinearRegression was fitted with feature names\n",
            "  warnings.warn(\n"
          ]
        }
      ]
    },
    {
      "cell_type": "code",
      "source": [
        "#Coeficiente\n",
        "#Significa que se o peso do carro aumentar 1kg a emissão de CO2 aumenta em 0.00755095g; Se o volume aumentar 1cm3 a emissão aumenta em 0.00780526g\n",
        "print(regressao.coef_)"
      ],
      "metadata": {
        "colab": {
          "base_uri": "https://localhost:8080/"
        },
        "id": "0M-n7CaPidi3",
        "outputId": "9d0a0e6d-4e75-4b07-cd40-d938c9b5d7a9"
      },
      "execution_count": null,
      "outputs": [
        {
          "output_type": "stream",
          "name": "stdout",
          "text": [
            "[0.00755095 0.00780526]\n"
          ]
        }
      ]
    },
    {
      "cell_type": "markdown",
      "source": [
        "Train/Test"
      ],
      "metadata": {
        "id": "jIKI8HwqohJs"
      }
    },
    {
      "cell_type": "code",
      "source": [
        "numpy.random.seed(2)\n",
        "\n",
        "#Criando um dataset de 100 clientes em uma loja e seus hábitos de compra\n",
        "x = numpy.random.normal(3, 1, 100) #Representa os minutos antes de fazer uma compra\n",
        "y = numpy.random.normal(150, 40, 100) / x #Representa a quantidade de dinheiro gasto na compra\n",
        "\n",
        "plt.scatter(x, y)\n",
        "plt.show()"
      ],
      "metadata": {
        "colab": {
          "base_uri": "https://localhost:8080/",
          "height": 265
        },
        "id": "vn_r9IV7oioc",
        "outputId": "4546ec9a-b16d-43e1-cc3a-0a72053676bf"
      },
      "execution_count": null,
      "outputs": [
        {
          "output_type": "display_data",
          "data": {
            "text/plain": [
              "<Figure size 432x288 with 1 Axes>"
            ],
            "image/png": "[encoded data removed]"
          },
          "metadata": {
            "needs_background": "light"
          }
        }
      ]
    },
    {
      "cell_type": "code",
      "source": [
        "#Separa entre treino e teste\n",
        "# 80% - treino \n",
        "# 20% - teste\n",
        "\n",
        "train_x = x[:80]\n",
        "train_y = y[:80]\n",
        "\n",
        "test_x = x[80:]\n",
        "test_y = y[80:]"
      ],
      "metadata": {
        "id": "gwKAB0d8q3Ln"
      },
      "execution_count": null,
      "outputs": []
    },
    {
      "cell_type": "code",
      "source": [
        "#Train set\n",
        "plt.scatter(train_x, train_y)\n",
        "plt.show()"
      ],
      "metadata": {
        "colab": {
          "base_uri": "https://localhost:8080/",
          "height": 265
        },
        "id": "p1oQ_bvEraEu",
        "outputId": "1d275d9a-3ca1-4fb3-e737-857bf6c7c9c4"
      },
      "execution_count": null,
      "outputs": [
        {
          "output_type": "display_data",
          "data": {
            "text/plain": [
              "<Figure size 432x288 with 1 Axes>"
            ],
            "image/png": "[encoded data removed]"
          },
          "metadata": {
            "needs_background": "light"
          }
        }
      ]
    },
    {
      "cell_type": "code",
      "source": [
        "#Test set\n",
        "plt.scatter(test_x, test_y)\n",
        "plt.show()"
      ],
      "metadata": {
        "colab": {
          "base_uri": "https://localhost:8080/",
          "height": 265
        },
        "id": "OW496jpprs_3",
        "outputId": "64b62a96-c181-42be-8c85-dcef952237a3"
      },
      "execution_count": null,
      "outputs": [
        {
          "output_type": "display_data",
          "data": {
            "text/plain": [
              "<Figure size 432x288 with 1 Axes>"
            ],
            "image/png": "[encoded data removed]"
          },
          "metadata": {
            "needs_background": "light"
          }
        }
      ]
    },
    {
      "cell_type": "code",
      "source": [
        "#Regressão polinomial\n",
        "mymodel = numpy.poly1d(numpy.polyfit(train_x, train_y, 4))\n",
        "\n",
        "myline = numpy.linspace(0, 6, 100)\n",
        "\n",
        "plt.scatter(train_x, train_y)\n",
        "plt.plot(myline, mymodel(myline))\n",
        "plt.show()"
      ],
      "metadata": {
        "colab": {
          "base_uri": "https://localhost:8080/",
          "height": 266
        },
        "id": "8mPuy4fmsPEd",
        "outputId": "2641c084-55c4-49de-a0f3-d7bd3aabd06f"
      },
      "execution_count": null,
      "outputs": [
        {
          "output_type": "display_data",
          "data": {
            "text/plain": [
              "<Figure size 432x288 with 1 Axes>"
            ],
            "image/png": "[encoded data removed]"
          },
          "metadata": {
            "needs_background": "light"
          }
        }
      ]
    },
    {
      "cell_type": "code",
      "source": [
        "#r2 - R-Squared, relacionamento - 0 a 1\n",
        "r2 = r2_score(train_y, mymodel(train_x))\n",
        "\n",
        "print(r2) #Relacionamento ok"
      ],
      "metadata": {
        "colab": {
          "base_uri": "https://localhost:8080/"
        },
        "id": "USC6IQCVuVAb",
        "outputId": "3e4b3149-29f8-47a9-c8d9-ef0e5eff3aef"
      },
      "execution_count": null,
      "outputs": [
        {
          "output_type": "stream",
          "name": "stdout",
          "text": [
            "0.79886455446298\n"
          ]
        }
      ]
    },
    {
      "cell_type": "code",
      "source": [
        "#Testando o test set\n",
        "r2 = r2_score(test_y, mymodel(test_x))\n",
        "\n",
        "print(r2)"
      ],
      "metadata": {
        "colab": {
          "base_uri": "https://localhost:8080/"
        },
        "id": "S4stRX9fvkiG",
        "outputId": "e16a624f-9cce-443f-a8d3-a182cb452df3"
      },
      "execution_count": null,
      "outputs": [
        {
          "output_type": "stream",
          "name": "stdout",
          "text": [
            "0.8086921460343566\n"
          ]
        }
      ]
    },
    {
      "cell_type": "code",
      "source": [
        "#Prevendo resultados\n",
        "print(mymodel(5)) #Prevê que um consumidor que fique 5 minutos na loja gaste R$22.87 reais"
      ],
      "metadata": {
        "colab": {
          "base_uri": "https://localhost:8080/"
        },
        "id": "c5YV2wN3v12J",
        "outputId": "276c41f5-c2b2-457d-db71-9db7249bc73a"
      },
      "execution_count": null,
      "outputs": [
        {
          "output_type": "stream",
          "name": "stdout",
          "text": [
            "22.8796259181172\n"
          ]
        }
      ]
    },
    {
      "cell_type": "markdown",
      "source": [
        "Confusion matrix"
      ],
      "metadata": {
        "id": "F7sisGax37B0"
      }
    },
    {
      "cell_type": "code",
      "source": [
        "#Mapeia os erros que o modelo cometeu\n",
        "\n",
        "actual = numpy.random.binomial(1, 0.9, size = 1000)\n",
        "predicted = numpy.random.binomial(1, 0.9, size = 1000)\n",
        "\n",
        "confusion_matrix = metrics.confusion_matrix(actual, predicted)\n",
        "\n",
        "cm_display = metrics.ConfusionMatrixDisplay(confusion_matrix = confusion_matrix, display_labels = [False, True])\n",
        "\n",
        "cm_display.plot()\n",
        "plt.show()"
      ],
      "metadata": {
        "colab": {
          "base_uri": "https://localhost:8080/",
          "height": 279
        },
        "id": "MW6cqfOi39fS",
        "outputId": "272d19ad-d418-4289-a07f-bde5bac8f686"
      },
      "execution_count": 4,
      "outputs": [
        {
          "output_type": "display_data",
          "data": {
            "text/plain": [
              "<Figure size 432x288 with 2 Axes>"
            ],
            "image/png": "[encoded data removed]"
          },
          "metadata": {
            "needs_background": "light"
          }
        }
      ]
    },
    {
      "cell_type": "code",
      "source": [
        "#Verdadeiro negativo (Cima-Esquerda)\n",
        "#Falso positivo (Cima-Direita)\n",
        "#Falso negativo (Baixo-Esquerda)\n",
        "#Verdadeiro verdadeiro (Baixo-Direita)"
      ],
      "metadata": {
        "id": "gYbIjIHH7swl"
      },
      "execution_count": 5,
      "outputs": []
    },
    {
      "cell_type": "code",
      "source": [
        "accuracy = metrics.accuracy_score(actual, predicted) #Mede a acurácia do modelo"
      ],
      "metadata": {
        "id": "0ElMAzrl-sjc"
      },
      "execution_count": 6,
      "outputs": []
    },
    {
      "cell_type": "code",
      "source": [
        "precision = metrics.precision_score(actual, predicted) #Qual porcentagem é realmente verdadeira"
      ],
      "metadata": {
        "id": "IHOOGNQY-6xT"
      },
      "execution_count": 7,
      "outputs": []
    },
    {
      "cell_type": "code",
      "source": [
        "sensitivity_recall = metrics.recall_score(actual, predicted) #Dos positivos, o quanto foi previsto"
      ],
      "metadata": {
        "id": "CzjhzWXi_Ud3"
      },
      "execution_count": 8,
      "outputs": []
    },
    {
      "cell_type": "code",
      "source": [
        "specifity = metrics.recall_score(actual, predicted, pos_label = 0) #O quão bom o modelo é em prever resultados negativos"
      ],
      "metadata": {
        "id": "AVeJmrZ2_oJd"
      },
      "execution_count": 9,
      "outputs": []
    },
    {
      "cell_type": "code",
      "source": [
        "F1_score = metrics.f1_score(actual, predicted) #Média harmonica entre precisão e sensitividade"
      ],
      "metadata": {
        "id": "wJ8GOdOjAe-h"
      },
      "execution_count": 10,
      "outputs": []
    },
    {
      "cell_type": "code",
      "source": [
        "#Métricas\n",
        "print({\"Accuracy\":accuracy, \"Precision\":precision, \"Sensitivity_recall\":sensitivity_recall, \"Specifity\":specifity, \"F1_score\":F1_score})"
      ],
      "metadata": {
        "colab": {
          "base_uri": "https://localhost:8080/"
        },
        "id": "f9LJBmYlAz2f",
        "outputId": "6af2e191-c03f-408d-b682-893ea4d97410"
      },
      "execution_count": 12,
      "outputs": [
        {
          "output_type": "stream",
          "name": "stdout",
          "text": [
            "{'Accuracy': 0.824, 'Precision': 0.8976897689768977, 'Sensitivity_recall': 0.9076751946607341, 'Specifity': 0.07920792079207921, 'F1_score': 0.902654867256637}\n"
          ]
        }
      ]
    },
    {
      "cell_type": "markdown",
      "source": [
        "Hierarquical cluster"
      ],
      "metadata": {
        "id": "3IcOx73_H6sC"
      }
    },
    {
      "cell_type": "code",
      "source": [
        "x = [4, 5, 10, 4, 3, 11, 14 , 6, 10, 12]\n",
        "y = [21, 19, 24, 17, 16, 25, 24, 22, 21, 21]\n",
        "\n",
        "plt.scatter(x, y)\n",
        "plt.show()"
      ],
      "metadata": {
        "colab": {
          "base_uri": "https://localhost:8080/",
          "height": 265
        },
        "id": "EtKYWzucH8sW",
        "outputId": "c36755ca-56e7-4af1-ee38-9db04a4219ea"
      },
      "execution_count": 13,
      "outputs": [
        {
          "output_type": "display_data",
          "data": {
            "text/plain": [
              "<Figure size 432x288 with 1 Axes>"
            ],
            "image/png": "[encoded data removed]"
          },
          "metadata": {
            "needs_background": "light"
          }
        }
      ]
    },
    {
      "cell_type": "code",
      "source": [
        "data = list(zip(x, y))\n",
        "\n",
        "linkage_data = linkage(data, method='ward', metric='euclidean')\n",
        "dendrogram(linkage_data)\n",
        "\n",
        "plt.show()"
      ],
      "metadata": {
        "colab": {
          "base_uri": "https://localhost:8080/",
          "height": 268
        },
        "id": "npEf6B1XI4Le",
        "outputId": "73721e71-8fe4-4f0d-c28a-f731e334b231"
      },
      "execution_count": 16,
      "outputs": [
        {
          "output_type": "display_data",
          "data": {
            "text/plain": [
              "<Figure size 432x288 with 1 Axes>"
            ],
            "image/png": "[encoded data removed]"
          },
          "metadata": {
            "needs_background": "light"
          }
        }
      ]
    },
    {
      "cell_type": "code",
      "source": [
        "#Mesma coisa, só que com scikit\n",
        "hierarquical_cluster = AgglomerativeClustering(n_clusters=2, affinity='euclidean', linkage='ward')\n",
        "labels = hierarquical_cluster.fit_predict(data)\n",
        "\n",
        "plt.scatter(x, y, c=labels)\n",
        "plt.show()"
      ],
      "metadata": {
        "colab": {
          "base_uri": "https://localhost:8080/",
          "height": 265
        },
        "id": "sOAsOkVmJaaQ",
        "outputId": "088e7eda-32e0-4b99-98f3-b55f8bac3a27"
      },
      "execution_count": 19,
      "outputs": [
        {
          "output_type": "display_data",
          "data": {
            "text/plain": [
              "<Figure size 432x288 with 1 Axes>"
            ],
            "image/png": "[encoded data removed]"
          },
          "metadata": {
            "needs_background": "light"
          }
        }
      ]
    }
  ]
}