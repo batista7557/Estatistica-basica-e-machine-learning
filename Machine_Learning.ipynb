{
  "nbformat": 4,
  "nbformat_minor": 0,
  "metadata": {
    "colab": {
      "provenance": [],
      "authorship_tag": "ABX9TyN3C/9/BK229bhwc27sk8bO",
      "include_colab_link": true
    },
    "kernelspec": {
      "name": "python3",
      "display_name": "Python 3"
    },
    "language_info": {
      "name": "python"
    }
  },
  "cells": [
    {
      "cell_type": "markdown",
      "metadata": {
        "id": "view-in-github",
        "colab_type": "text"
      },
      "source": [
        "<a href=\"https://colab.research.google.com/github/batista7557/Estatistica-basica-e-machine-learning/blob/main/Machine_Learning.ipynb\" target=\"_parent\"><img src=\"https://colab.research.google.com/assets/colab-badge.svg\" alt=\"Open In Colab\"/></a>"
      ]
    },
    {
      "cell_type": "code",
      "source": [
        "import numpy\n",
        "from scipy import stats"
      ],
      "metadata": {
        "id": "LgkWyw6Ifg17"
      },
      "execution_count": 5,
      "outputs": []
    },
    {
      "cell_type": "markdown",
      "source": [
        "Média, mediana e moda"
      ],
      "metadata": {
        "id": "tF_voQYWfTO7"
      }
    },
    {
      "cell_type": "code",
      "execution_count": 1,
      "metadata": {
        "id": "p58SRrKjej7Y"
      },
      "outputs": [],
      "source": [
        "velocidade = [99,86,87,88,111,86,103,87,94,78,77,85,86]"
      ]
    },
    {
      "cell_type": "code",
      "source": [
        "media = numpy.mean(velocidade)\n",
        "\n",
        "print(media)"
      ],
      "metadata": {
        "colab": {
          "base_uri": "https://localhost:8080/"
        },
        "id": "LsnwnuHSfkg0",
        "outputId": "848bdd6b-1ffe-4958-cf95-474abb423c34"
      },
      "execution_count": 3,
      "outputs": [
        {
          "output_type": "stream",
          "name": "stdout",
          "text": [
            "89.76923076923077\n"
          ]
        }
      ]
    },
    {
      "cell_type": "code",
      "source": [
        "mediana = numpy.median(velocidade)\n",
        "\n",
        "print(mediana)"
      ],
      "metadata": {
        "colab": {
          "base_uri": "https://localhost:8080/"
        },
        "id": "U8FqyTINgAm3",
        "outputId": "c5984660-35b9-4997-f551-3dc42c427427"
      },
      "execution_count": 4,
      "outputs": [
        {
          "output_type": "stream",
          "name": "stdout",
          "text": [
            "87.0\n"
          ]
        }
      ]
    },
    {
      "cell_type": "code",
      "source": [
        "moda = stats.mode(velocidade)\n",
        "\n",
        "print(moda)"
      ],
      "metadata": {
        "colab": {
          "base_uri": "https://localhost:8080/"
        },
        "id": "hmgVrt8PgXW3",
        "outputId": "0d1208e9-0819-4243-a574-10e5a4bcb6e0"
      },
      "execution_count": 6,
      "outputs": [
        {
          "output_type": "stream",
          "name": "stdout",
          "text": [
            "ModeResult(mode=array([86]), count=array([3]))\n"
          ]
        }
      ]
    },
    {
      "cell_type": "markdown",
      "source": [
        "Desvio padrão"
      ],
      "metadata": {
        "id": "1BkFF_srguS-"
      }
    },
    {
      "cell_type": "code",
      "source": [
        "velocidade = [86,87,88,86,87,85,86]"
      ],
      "metadata": {
        "id": "1OgXzNoXgwy4"
      },
      "execution_count": 7,
      "outputs": []
    },
    {
      "cell_type": "code",
      "source": [
        "desvioPadrao = numpy.std(velocidade)\n",
        "\n",
        "print(desvioPadrao)"
      ],
      "metadata": {
        "colab": {
          "base_uri": "https://localhost:8080/"
        },
        "id": "m416MUARg5L6",
        "outputId": "b499539c-58e6-479c-d9df-732175f02a72"
      },
      "execution_count": 8,
      "outputs": [
        {
          "output_type": "stream",
          "name": "stdout",
          "text": [
            "0.9035079029052513\n"
          ]
        }
      ]
    },
    {
      "cell_type": "markdown",
      "source": [
        "Variância"
      ],
      "metadata": {
        "id": "lQKBizrHhEuT"
      }
    },
    {
      "cell_type": "code",
      "source": [
        "velocidade = [32,111,138,28,59,77,97]"
      ],
      "metadata": {
        "id": "GMi5QvJ6hG0J"
      },
      "execution_count": 9,
      "outputs": []
    },
    {
      "cell_type": "code",
      "source": [
        "variancia = numpy.var(velocidade)\n",
        "\n",
        "print(variancia)"
      ],
      "metadata": {
        "colab": {
          "base_uri": "https://localhost:8080/"
        },
        "id": "P6QTqA5khQco",
        "outputId": "12da9ded-df15-4b63-94f2-93a3c71c3494"
      },
      "execution_count": 11,
      "outputs": [
        {
          "output_type": "stream",
          "name": "stdout",
          "text": [
            "1432.2448979591834\n"
          ]
        }
      ]
    },
    {
      "cell_type": "markdown",
      "source": [
        "Percentil"
      ],
      "metadata": {
        "id": "6Efaj9B0iIM4"
      }
    },
    {
      "cell_type": "code",
      "source": [
        "idades = [5,31,43,48,50,41,7,11,15,39,80,82,32,2,8,6,25,36,27,61,31]"
      ],
      "metadata": {
        "id": "IjaknLzyiJj4"
      },
      "execution_count": 12,
      "outputs": []
    },
    {
      "cell_type": "code",
      "source": [
        "percentil = numpy.percentile(idades, 75) #Significa que 75% da amostra tem idade menor ou igual a 43\n",
        "\n",
        "print(percentil)"
      ],
      "metadata": {
        "colab": {
          "base_uri": "https://localhost:8080/"
        },
        "id": "1iqgAPA1iUns",
        "outputId": "c6106422-5eed-42f2-a8b3-d4b3b4ab27ee"
      },
      "execution_count": 16,
      "outputs": [
        {
          "output_type": "stream",
          "name": "stdout",
          "text": [
            "43.0\n"
          ]
        }
      ]
    },
    {
      "cell_type": "code",
      "source": [
        "percentil90 = numpy.percentile(idades, 90)\n",
        "\n",
        "print(percentil90)"
      ],
      "metadata": {
        "colab": {
          "base_uri": "https://localhost:8080/"
        },
        "id": "P69yns83jOCG",
        "outputId": "db4ca34d-3b10-4376-fe4b-0be795a2bda4"
      },
      "execution_count": 18,
      "outputs": [
        {
          "output_type": "stream",
          "name": "stdout",
          "text": [
            "61.0\n"
          ]
        }
      ]
    }
  ]
}